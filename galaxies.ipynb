{
 "cells": [
  {
   "cell_type": "markdown",
   "metadata": {},
   "source": [
    "Here is my code to find angular separation"
   ]
  },
  {
   "cell_type": "code",
   "execution_count": 6,
   "metadata": {},
   "outputs": [],
   "source": [
    "#import packages \n",
    "import numpy as np\n",
    "import pandas as pd\n",
    "import matplotlib.pyplot as plt\n",
    "from astropy import units as u  \n",
    "import time"
   ]
  },
  {
   "cell_type": "markdown",
   "metadata": {},
   "source": [
    "I am using ROSAT data and SDSS list. "
   ]
  },
  {
   "cell_type": "code",
   "execution_count": 8,
   "metadata": {},
   "outputs": [],
   "source": [
    "galaxiesFull = pd.read_csv(\"galaxies_full.csv\", sep = ',')  \n",
    "ROSAT = pd.read_csv(\"2rxs_lite.txt\", delim_whitespace=True)  \n",
    "\n",
    "RA_Galaxies = ROSAT.iloc[:, 2] #right ascention\n",
    "DEC_Galaxies = ROSAT.iloc[:, 3] #decllination\n",
    "PosErr_ROSAT = ROSAT.iloc[:, 4] #position error\n",
    "\n",
    "RA_ROSAT = ROSAT.iloc[:, 2] #right ascention\n",
    "DEC_ROSAT = ROSAT.iloc[:, 3] #decllination\n",
    "PosErr_ROSAT = ROSAT.iloc[:, 4] #position error"
   ]
  },
  {
   "cell_type": "code",
   "execution_count": 11,
   "metadata": {},
   "outputs": [
    {
     "name": "stderr",
     "output_type": "stream",
     "text": [
      "/var/folders/3f/g9qgz71j35z23v4byb9jtltc00031c/T/ipykernel_28513/1861551713.py:27: RuntimeWarning: invalid value encountered in arccos\n",
      "  theta_arcsec = np.arccos(theta_rad) * 206265\n"
     ]
    },
    {
     "name": "stdout",
     "output_type": "stream",
     "text": [
      "Numpy: 349.2818691730499 seconds\n"
     ]
    }
   ],
   "source": [
    "start = time.time() #start a time to see how long it takes\n",
    "\n",
    "\n",
    "count = 0\n",
    "theta = [] #the angular separation\n",
    "d1 = [] #declination 1\n",
    "d2 = [] #declination 2\n",
    "ra1 = [] #right ascention 1\n",
    "ra2 = [] #right ascention 2\n",
    "pos_err1 = [] #position error 1\n",
    "pos_err2 = [] #position error 2\n",
    "offset = [] \n",
    "\n",
    "\n",
    "for i in range(np.size(DEC_Galaxies)): \n",
    "        \n",
    "        tmp1 = np.where( np.absolute(DEC_Galaxies[i] - DEC_ROSAT) < 1) \n",
    "        tmp2 = np.where( np.absolute(RA_Galaxies[i]-RA_ROSAT) * np.cos(DEC_ROSAT*(np.pi/180))  < 1 ) \n",
    "        resultArray = (np.intersect1d(tmp1, tmp2))\n",
    "        \n",
    "        if np.size(resultArray) ==0: \n",
    "                continue\n",
    "        else: \n",
    "                for j in resultArray:\n",
    "\n",
    "                        theta_rad = np.sin(DEC_Galaxies[i]*np.pi/180)* np.sin(DEC_ROSAT[j]*np.pi/180) + np.cos(DEC_Galaxies[i]*np.pi/180)*np.cos(DEC_ROSAT[j]*np.pi/180)*np.cos(np.absolute(RA_Galaxies[i]-RA_ROSAT[j])*np.pi/180) #returns answer in rad\n",
    "                        theta_arcsec = np.arccos(theta_rad) * 206265\n",
    "\n",
    "                        if theta_arcsec < 360: \n",
    "                                \n",
    "\n",
    "                                poserr1 = 1\n",
    "                                if PosErr_ROSAT[j] < 6:\n",
    "                                        poserr2 = 6\n",
    "                                else:\n",
    "                                        poserr2 = PosErr_ROSAT[j] \n",
    "                                confid = theta_arcsec/np.sqrt(poserr1**2 + poserr2**2) #finding theta hat\n",
    "                                \n",
    "                                if confid < 4:\n",
    "                                        count+= 1\n",
    "                                        theta.append(theta_arcsec)\n",
    "                                        offset.append(confid)\n",
    "                                        d1.append(DEC_Galaxies[i])\n",
    "                                        d2.append(DEC_ROSAT[j])\n",
    "                                        ra1.append(RA_Galaxies[i])\n",
    "                                        ra2.append(RA_ROSAT[j])\n",
    "                                        pos_err1.append(poserr1)\n",
    "                                        pos_err2.append(poserr2)\n",
    "\n",
    "print(f'Numpy: {time.time() - start} seconds')"
   ]
  },
  {
   "cell_type": "code",
   "execution_count": 12,
   "metadata": {},
   "outputs": [
    {
     "name": "stdout",
     "output_type": "stream",
     "text": [
      "108183\n",
      "Writing file\n"
     ]
    }
   ],
   "source": [
    "print(count)\n",
    "print(\"Writing file\")\n",
    "\n",
    "with open(r'galaxies_ROSAT.txt', 'w') as fp:\n",
    "        fp.write(\"Theta\\tOffset\\tRA-SDSS\\tDEC-SDSS\\tPosErr-SDSS\\tRA-ROSAT\\tDEC-ROSAT\\tPosErr-ROSAT\\n\")\n",
    "        for i in range(count):\n",
    "                fp.write(\"%4.1f\\t%4.2f\\t%12.6f\\t%12.6f\\t%6.2f\\t%12.6f\\t%12.6f\\t%6.2f\\n\" %((theta[i]), (offset[i]), (ra1[i]), (d1[i]), (pos_err1[i]), (ra2[i]), (d2[i]), (pos_err2[i]) ))"
   ]
  },
  {
   "cell_type": "markdown",
   "metadata": {},
   "source": [
    "There are 11314 galaxies and it seems thaat 108183 of them are the exact source in this list from SDSS\n",
    "\n",
    "\n",
    "Now I will try again with SDSS."
   ]
  },
  {
   "cell_type": "code",
   "execution_count": 47,
   "metadata": {},
   "outputs": [
    {
     "name": "stdout",
     "output_type": "stream",
     "text": [
      "108183\n",
      "Writing file\n"
     ]
    }
   ],
   "source": [
    "searchMatch = np.loadtxt(\"galaxies_ROSAT.txt\" , skiprows = 1)\n",
    "thetaSearch = searchMatch[:,1]\n",
    "\n",
    "nonZeroTheta = np.where(thetaSearch != 0)\n",
    "k = 0\n",
    "print(count)\n",
    "print(\"Writing file\")\n",
    "\n",
    "with open(r'galaxies_ROSAT_nonzero.txt', 'w') as fp:\n",
    "    fp.write(\"Theta\\tOffset\\tRA-SDSS\\tDEC-SDSS\\tPosErr-SDSS\\tRA-ROSAT\\tDEC-ROSAT\\tPosErr-ROSAT\\n\")\n",
    "    for i in range(np.size(nonZeroTheta)):\n",
    "        k = nonZeroTheta[0][i]\n",
    "        fp.write(\"%4.1f\\t%4.2f\\t%12.6f\\t%12.6f\\t%6.2f\\t%12.6f\\t%12.6f\\t%6.2f\\n\" %((theta[k]), (offset[k]), (ra1[k]), (d1[k]), (pos_err1[k]), (ra2[k]), (d2[k]), (pos_err2[k]) ))\n",
    "\n"
   ]
  },
  {
   "cell_type": "code",
   "execution_count": 46,
   "metadata": {},
   "outputs": [
    {
     "name": "stdout",
     "output_type": "stream",
     "text": [
      "2650\n"
     ]
    }
   ],
   "source": [
    "print(nonZeroTheta[0][1])"
   ]
  },
  {
   "cell_type": "code",
   "execution_count": 59,
   "metadata": {},
   "outputs": [
    {
     "name": "stdout",
     "output_type": "stream",
     "text": [
      "RA SDSS 9525\n",
      "DEC SDSS 9525\n",
      "RA Galaxies 1573\n",
      "DEC Galaxies 1573\n"
     ]
    },
    {
     "name": "stderr",
     "output_type": "stream",
     "text": [
      "/var/folders/3f/g9qgz71j35z23v4byb9jtltc00031c/T/ipykernel_28513/1568026449.py:44: RuntimeWarning: invalid value encountered in arccos\n",
      "  theta_arcsec = np.arccos(theta_rad) * 206265\n"
     ]
    },
    {
     "name": "stdout",
     "output_type": "stream",
     "text": [
      "1162\n",
      "Numpy: 9.511152029037476 seconds\n"
     ]
    }
   ],
   "source": [
    "start = time.time() #start a time to see how long it takes\n",
    "\n",
    "\n",
    "Galaxies = pd.read_csv(\"galaxies_full.csv\", sep = ',')  \n",
    "RA_Galaxies = Galaxies.iloc[:, 1] #right ascention\n",
    "DEC_Galaxies = Galaxies.iloc[:, 2] #decllination\n",
    "#PosErr_Galaxies = Galaxies.iloc[:, 4] #position error\n",
    "\n",
    "\n",
    "SDSS = pd.read_csv(\"dr7_sara.csv\", sep=',', header = 1) #SDSS\n",
    "RA_SDSS = SDSS.iloc[:, 0] #right ascention\n",
    "DEC_SDSS = SDSS.iloc[:, 1] #decllination\n",
    "PosErr_SDSS = SDSS.iloc[:, 2] #position error\n",
    "\n",
    "print(\"RA SDSS\", np.size(DEC_SDSS))\n",
    "print(\"DEC SDSS\", np.size(RA_SDSS))\n",
    "print(\"RA Galaxies\", np.size(RA_Galaxies))\n",
    "print(\"DEC Galaxies\", np.size(DEC_Galaxies))\n",
    "\n",
    "count = 0\n",
    "\n",
    "theta = [] #the angular separation\n",
    "d1 = []\n",
    "d2 = []\n",
    "ra1 = []\n",
    "ra2 = []\n",
    "PosErr1 = []\n",
    "PosErr2 = []\n",
    "offset = []\n",
    "k = 0\n",
    "\n",
    "for i in range(np.size(DEC_SDSS)): \n",
    "        \n",
    "        tmp1 = np.where( np.absolute(DEC_SDSS[i] - DEC_Galaxies) < 1) \n",
    "        tmp2 = np.where( np.absolute(RA_SDSS[i]-RA_Galaxies) * np.cos(DEC_Galaxies*(np.pi/180))  < 1 ) \n",
    "        resultArray = (np.intersect1d(tmp1, tmp2))\n",
    "\n",
    "        if np.size(resultArray) ==0: \n",
    "                continue\n",
    "        else: \n",
    "                for j in resultArray:\n",
    "\n",
    "                        theta_rad = np.sin(DEC_SDSS[i]*np.pi/180)* np.sin(DEC_Galaxies[j]*np.pi/180) + np.cos(DEC_SDSS[i]*np.pi/180)*np.cos(DEC_Galaxies[j]*np.pi/180)*np.cos(np.absolute(RA_SDSS[i]-RA_Galaxies[j])*np.pi/180) #returns answer in rad\n",
    "                        theta_arcsec = np.arccos(theta_rad) * 206265\n",
    "                        if theta_arcsec < 360: \n",
    "\n",
    "                                poserr1 = 6\n",
    "                                poserr2 = 6\n",
    "                                \"\"\"                             \n",
    "                                if PosErr_Galaxies[j] < 6:\n",
    "                                        poserr2 = 6\n",
    "\n",
    "                                else:\n",
    "                                        poserr2 = PosErr_Galaxies[j] \n",
    "                                \"\"\"\n",
    "                                confid = theta_arcsec/np.sqrt(poserr1**2 + poserr2**2) #finding theta hat\n",
    "                                if confid < 4:\n",
    "                                        count+= 1\n",
    "                                        theta.append(theta_arcsec)\n",
    "                                        offset.append(confid)\n",
    "                                        d1.append(DEC_SDSS[i])\n",
    "                                        d2.append(DEC_Galaxies[j])\n",
    "                                        ra1.append(RA_SDSS[i])\n",
    "                                        ra2.append(RA_Galaxies[j])\n",
    "                                        PosErr1.append(poserr1)\n",
    "                                        PosErr2.append(poserr2)\n",
    "                                        k += 1\n",
    "\n",
    "                \n",
    "print(count)\n",
    "\n",
    "print(f'Numpy: {time.time() - start} seconds')"
   ]
  },
  {
   "cell_type": "code",
   "execution_count": 60,
   "metadata": {},
   "outputs": [
    {
     "name": "stdout",
     "output_type": "stream",
     "text": [
      "Writing file\n"
     ]
    }
   ],
   "source": [
    "print(\"Writing file\")\n",
    "\n",
    "with open(r'dr7_galaxies.txt', 'w') as fp:\n",
    "        fp.write(\"Theta\\tOffset\\tRA-SDSS\\tDEC-SDSS\\tPosErr-SDSS\\tRA-Galaxies\\tDEC-Galaxies\\tPosErr-Galaxies\\n\")\n",
    "        for i in range(count):\n",
    "                fp.write(\"%4.1f\\t%4.2f\\t%12.6f\\t%12.6f\\t%6.2f\\t%12.6f\\t%12.6f\\t%6.2f\\n\" %((theta[i]), (offset[i]), (ra1[i]), (d1[i]), (PosErr1[i]), (ra2[i]), (d2[i]), (PosErr2[i]) ))"
   ]
  },
  {
   "cell_type": "markdown",
   "metadata": {},
   "source": [
    "It seems that there are no matches with SDSS DR7 release"
   ]
  },
  {
   "cell_type": "code",
   "execution_count": 58,
   "metadata": {},
   "outputs": [
    {
     "data": {
      "text/plain": [
       "0       0.015561\n",
       "1       0.016275\n",
       "2       0.015377\n",
       "3       0.015220\n",
       "4       0.014617\n",
       "          ...   \n",
       "1568    0.000958\n",
       "1569    0.001061\n",
       "1570    0.000954\n",
       "1571    0.015472\n",
       "1572    0.000330\n",
       "Name: Redshift, Length: 1573, dtype: float64"
      ]
     },
     "execution_count": 58,
     "metadata": {},
     "output_type": "execute_result"
    }
   ],
   "source": [
    " Galaxies.iloc[:, 4]"
   ]
  },
  {
   "cell_type": "code",
   "execution_count": null,
   "metadata": {},
   "outputs": [],
   "source": []
  }
 ],
 "metadata": {
  "kernelspec": {
   "display_name": "Python 3.8.2 64-bit",
   "language": "python",
   "name": "python3"
  },
  "language_info": {
   "codemirror_mode": {
    "name": "ipython",
    "version": 3
   },
   "file_extension": ".py",
   "mimetype": "text/x-python",
   "name": "python",
   "nbconvert_exporter": "python",
   "pygments_lexer": "ipython3",
   "version": "3.8.2"
  },
  "orig_nbformat": 4,
  "vscode": {
   "interpreter": {
    "hash": "31f2aee4e71d21fbe5cf8b01ff0e069b9275f58929596ceb00d14d90e3e16cd6"
   }
  }
 },
 "nbformat": 4,
 "nbformat_minor": 2
}
