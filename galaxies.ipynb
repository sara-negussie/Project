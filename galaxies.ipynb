{
 "cells": [
  {
   "cell_type": "markdown",
   "metadata": {},
   "source": [
    "Here is my code to find angular separation"
   ]
  },
  {
   "cell_type": "code",
   "execution_count": 11,
   "metadata": {},
   "outputs": [],
   "source": [
    "#import packages \n",
    "import numpy as np\n",
    "import pandas as pd\n",
    "import csv\n",
    "import sys\n",
    "import matplotlib.pyplot as plt\n",
    "from astropy import units as u  \n",
    "import time"
   ]
  },
  {
   "cell_type": "code",
   "execution_count": null,
   "metadata": {},
   "outputs": [],
   "source": []
  },
  {
   "cell_type": "code",
   "execution_count": 20,
   "metadata": {},
   "outputs": [],
   "source": [
    "galaxiesFull = pd.read_csv(\"galaxies_full.csv\", sep = ',')  \n",
    "ROSAT = pd.read_csv(\"2rxs_lite.txt\", delim_whitespace=True)  \n",
    "\n",
    "RA_Galaxies = ROSAT.iloc[:, 2] #right ascention\n",
    "DEC_Galaxies = ROSAT.iloc[:, 3] #decllination\n",
    "PosErr_ROSAT = ROSAT.iloc[:, 4] #position error\n",
    "\n",
    "RA_ROSAT = ROSAT.iloc[:, 2] #right ascention\n",
    "DEC_ROSAT = ROSAT.iloc[:, 3] #decllination\n",
    "PosErr_ROSAT = ROSAT.iloc[:, 4] #position error"
   ]
  },
  {
   "cell_type": "code",
   "execution_count": 21,
   "metadata": {},
   "outputs": [
    {
     "name": "stderr",
     "output_type": "stream",
     "text": [
      "/var/folders/3f/g9qgz71j35z23v4byb9jtltc00031c/T/ipykernel_21873/2094083474.py:34: RuntimeWarning: invalid value encountered in arccos\n",
      "  theta_arcsec = np.arccos(theta_rad) * 206265\n"
     ]
    },
    {
     "name": "stdout",
     "output_type": "stream",
     "text": [
      "1954863\n",
      "108183\n",
      "108183\n",
      "Writing file\n",
      "Numpy: 359.896940946579 seconds\n"
     ]
    }
   ],
   "source": [
    "start = time.time() #start a time to see how long it takes\n",
    "\n",
    "\n",
    "count = 0\n",
    "theta = [] #the angular separation\n",
    "d1 = []\n",
    "d2 = []\n",
    "ra1 = []\n",
    "ra2 = []\n",
    "snr1 = []\n",
    "snr2 = []\n",
    "offset = [] \n",
    "k = 0\n",
    "\n",
    "\n",
    "for i in range(np.size(DEC_Galaxies)): \n",
    "        \n",
    "        #tmp = np.where( ((np.absolute(DEC_Galaxies[i] - DEC_ROSAT) < 1)) & ( (np.absolute(RA_Galaxies[i]-RA_ROSAT[i]) * np.cos(DEC_ROSAT*(np.pi/180)) )  < 1 ) )  #conditions it need to meet\n",
    "        #print(type(tmp))\n",
    "        tmp1 = np.where( np.absolute(DEC_Galaxies[i] - DEC_ROSAT) < 1) \n",
    "        tmp2 = np.where( np.absolute(RA_Galaxies[i]-RA_ROSAT) * np.cos(DEC_ROSAT*(np.pi/180))  < 1 ) \n",
    "        resultArray = (np.intersect1d(tmp1, tmp2))\n",
    "        \n",
    "        #print(np.size(resultArray))\n",
    "        if np.size(resultArray) ==0: \n",
    "                continue\n",
    "        else: \n",
    "                for j in resultArray:\n",
    "                #tmp[0]:\n",
    "                        #j = tmp[0]\n",
    "                        #print(j)\n",
    "                        count+= 1\n",
    "                        theta_rad = np.sin(DEC_Galaxies[i]*np.pi/180)* np.sin(DEC_ROSAT[j]*np.pi/180) + np.cos(DEC_Galaxies[i]*np.pi/180)*np.cos(DEC_ROSAT[j]*np.pi/180)*np.cos(np.absolute(RA_Galaxies[i]-RA_ROSAT[j])*np.pi/180) #returns answer in rad\n",
    "                        #print(theta_rad)\n",
    "                        theta_arcsec = np.arccos(theta_rad) * 206265\n",
    "                        #print(theta_arcsec)\n",
    "                        #print(type(theta_arcsec))\n",
    "                        if theta_arcsec < 360: \n",
    "                \n",
    "                                poserr1 = 1\n",
    "                                if PosErr_ROSAT[j] < 6:\n",
    "                                        poserr2 = 6\n",
    "\n",
    "                                else:\n",
    "                                        poserr2 = PosErr_ROSAT[j] \n",
    "                                confid = theta_arcsec/np.sqrt(poserr1**2 + poserr2**2) #finding theta hat\n",
    "                                #print(theta_arcsec)\n",
    "                                if confid < 4:\n",
    "                                        theta.append(theta_arcsec)\n",
    "                                        offset.append(confid)\n",
    "                                        d1.append(DEC_Galaxies[i])\n",
    "                                        d2.append(DEC_ROSAT[j])\n",
    "                                        ra1.append(RA_Galaxies[i])\n",
    "                                        ra2.append(RA_ROSAT[j])\n",
    "                                        snr1.append(poserr1)\n",
    "                                        snr2.append(poserr2)\n",
    "                                        #print(theta)\n",
    "                                        #tmp_num = theta_arcsec\n",
    "                                        k += 1\n",
    "\n",
    "                \n",
    "print(count)\n",
    "print(k)\n",
    "print(np.size(theta))\n",
    "#a = np.sin(90*np.pi/180)\n",
    "#print(a)\n",
    "\n",
    "#ang_sep = np.zeros(count)\n",
    "#for i in range(count):\n",
    "    #ang_sep[i] = round(theta[i].value, 3)\n",
    "#    ang_sep[i] = theta[0][i]\n",
    "\n",
    "#print(np.shape(tmp))\n",
    "print(\"Writing file\")\n",
    "\n",
    "with open(r'galaxies_ROSAT.txt', 'w') as fp:\n",
    "        fp.write(\"Theta\\tOffset\\tRA-SDSS\\tDEC-SDSS\\tPosErr-SDSS\\tRA-ROSAT\\tDEC-ROSAT\\tPosErr-ROSAT\\n\")\n",
    "        for i in range(k):\n",
    "                fp.write(\"%4.1f\\t%4.2f\\t%12.6f\\t%12.6f\\t%6.2f\\t%12.6f\\t%12.6f\\t%6.2f\\n\" %((theta[i]), (offset[i]), (ra1[i]), (d1[i]), (snr1[i]), (ra2[i]), (d2[i]),   (snr2[i]) ))\n",
    "                #fp.write(\"%4.1f\\t%4.2f\\t%f\\t%f\\t%6.2f\\t%f\\t%f\\t%6.2f\\n\" %((theta[i]), (offset[i]), (ra1[i]), (d1[i]), (snr1[i]), (ra2[i]), (d2[i]),   (snr2[i]) ))\n",
    "\n",
    "print(f'Numpy: {time.time() - start} seconds')"
   ]
  },
  {
   "cell_type": "code",
   "execution_count": 22,
   "metadata": {},
   "outputs": [
    {
     "data": {
      "text/plain": [
       "113314"
      ]
     },
     "execution_count": 22,
     "metadata": {},
     "output_type": "execute_result"
    }
   ],
   "source": [
    "np.size(RA_Galaxies)"
   ]
  },
  {
   "cell_type": "markdown",
   "metadata": {},
   "source": [
    "There are 11314 galaxies and it seems thaat 108183 of them are the exact source in this list from SDSS\n",
    "\n",
    "\n",
    "Now I will try again with SDSS."
   ]
  },
  {
   "cell_type": "code",
   "execution_count": 23,
   "metadata": {},
   "outputs": [
    {
     "ename": "NameError",
     "evalue": "name 'x' is not defined",
     "output_type": "error",
     "traceback": [
      "\u001b[0;31m---------------------------------------------------------------------------\u001b[0m",
      "\u001b[0;31mNameError\u001b[0m                                 Traceback (most recent call last)",
      "\u001b[1;32m/Users/snegussie/Documents/Negussie Research Folder/Project/galaxies.ipynb Cell 7'\u001b[0m in \u001b[0;36m<cell line: 1>\u001b[0;34m()\u001b[0m\n\u001b[0;32m----> <a href='vscode-notebook-cell:/Users/snegussie/Documents/Negussie%20Research%20Folder/Project/galaxies.ipynb#ch0000008?line=0'>1</a>\u001b[0m x\n",
      "\u001b[0;31mNameError\u001b[0m: name 'x' is not defined"
     ]
    }
   ],
   "source": [
    "x"
   ]
  },
  {
   "cell_type": "code",
   "execution_count": 28,
   "metadata": {},
   "outputs": [
    {
     "name": "stdout",
     "output_type": "stream",
     "text": [
      "RA SDSS 9525\n",
      "DEC SDSS 9525\n",
      "RA Galaxies 1573\n",
      "DEC Galaxies 1573\n",
      "0\n",
      "0\n",
      "0\n",
      "Writing file\n",
      "Numpy: 8.961338758468628 seconds\n"
     ]
    }
   ],
   "source": [
    "start = time.time() #start a time to see how long it takes\n",
    "\n",
    "\n",
    "Galaxies = pd.read_csv(\"galaxies_full.csv\", sep = ',')  \n",
    "RA_Galaxies = Galaxies.iloc[:, 2] #right ascention\n",
    "DEC_Galaxies = Galaxies.iloc[:, 3] #decllination\n",
    "PosErr_Galaxies = Galaxies.iloc[:, 4] #position error\n",
    "\n",
    "\n",
    "SDSS = pd.read_csv(\"dr7_sara.csv\", sep=',', header = 1) #SDSS\n",
    "RA_SDSS = SDSS.iloc[:, 0] #right ascention\n",
    "DEC_SDSS = SDSS.iloc[:, 1] #decllination\n",
    "PosErr_SDSS = SDSS.iloc[:, 2] #signal to noise ratio\n",
    "\n",
    "print(\"RA SDSS\", np.size(DEC_SDSS))\n",
    "print(\"DEC SDSS\", np.size(RA_SDSS))\n",
    "print(\"RA Galaxies\", np.size(RA_Galaxies))\n",
    "print(\"DEC Galaxies\", np.size(DEC_Galaxies))\n",
    "\n",
    "count = 0\n",
    "\n",
    "theta = [] #the angular separation\n",
    "d1 = []\n",
    "d2 = []\n",
    "ra1 = []\n",
    "ra2 = []\n",
    "PosErr1 = []\n",
    "PosErr2 = []\n",
    "offset = []\n",
    "k = 0\n",
    "\n",
    "for i in range(np.size(DEC_SDSS)): \n",
    "        \n",
    "        #tmp = np.where( ((np.absolute(DEC_SDSS[i] - DEC_Galaxies) < 1)) & ( (np.absolute(RA_SDSS[i]-RA_Galaxies[i]) * np.cos(DEC_Galaxies*(np.pi/180)) )  < 1 ) )  #conditions it need to meet\n",
    "        #print(type(tmp))\n",
    "        tmp1 = np.where( np.absolute(DEC_SDSS[i] - DEC_Galaxies) < 1) \n",
    "        tmp2 = np.where( np.absolute(RA_SDSS[i]-RA_Galaxies) * np.cos(DEC_Galaxies*(np.pi/180))  < 1 ) \n",
    "        resultArray = (np.intersect1d(tmp1, tmp2))\n",
    "        \n",
    "        #print(np.size(resultArray))\n",
    "        if np.size(resultArray) ==0: \n",
    "                continue\n",
    "        else: \n",
    "                for j in resultArray:\n",
    "                #tmp[0]:\n",
    "                        #j = tmp[0]\n",
    "                        #print(j)\n",
    "                        count+= 1\n",
    "                        theta_rad = np.sin(DEC_SDSS[i]*np.pi/180)* np.sin(DEC_Galaxies[j]*np.pi/180) + np.cos(DEC_SDSS[i]*np.pi/180)*np.cos(DEC_Galaxies[j]*np.pi/180)*np.cos(np.absolute(RA_SDSS[i]-RA_Galaxies[j])*np.pi/180) #returns answer in rad\n",
    "                        #print(theta_rad)\n",
    "                        theta_arcsec = np.arccos(theta_rad) * 206265\n",
    "                        #print(theta_arcsec)\n",
    "                        #print(type(theta_arcsec))\n",
    "                        if theta_arcsec < 360: \n",
    "\n",
    "                                poserr1 = 6\n",
    "                                if PosErr_Galaxies[j] < 6:\n",
    "                                        poserr2 = 6\n",
    "\n",
    "                                else:\n",
    "                                        poserr2 = PosErr_Galaxies[j] \n",
    "                                confid = theta_arcsec/np.sqrt(poserr1**2 + poserr2**2) #finding theta hat\n",
    "                                #print(theta_arcsec)\n",
    "                                if confid < 4:\n",
    "                                        theta.append(theta_arcsec)\n",
    "                                        offset.append(confid)\n",
    "                                        d1.append(DEC_SDSS[i])\n",
    "                                        d2.append(DEC_Galaxies[j])\n",
    "                                        ra1.append(RA_SDSS[i])\n",
    "                                        ra2.append(RA_Galaxies[j])\n",
    "                                        PosErr1.append(poserr1)\n",
    "                                        PosErr2.append(poserr2)\n",
    "                                        #print(theta)\n",
    "                                        #tmp_num = theta_arcsec\n",
    "                                        k += 1\n",
    "\n",
    "                \n",
    "print(count)\n",
    "print(k)\n",
    "print(np.size(theta))\n",
    "#a = np.sin(90*np.pi/180)\n",
    "#print(a)\n",
    "\n",
    "ang_sep = np.zeros(count)\n",
    "#for i in range(count):\n",
    "    #ang_sep[i] = round(theta[i].value, 3)\n",
    "#    ang_sep[i] = theta[0][i]\n",
    "\n",
    "#print(np.shape(tmp))\n",
    "print(\"Writing file\")\n",
    "\n",
    "with open(r'dr7_galaxies.txt', 'w') as fp:\n",
    "        fp.write(\"Theta\\tOffset\\tRA-SDSS\\tDEC-SDSS\\tPosErr-SDSS\\tRA-Galaxies\\tDEC-Galaxies\\tPosErr-Galaxies\\n\")\n",
    "        for i in range(k):\n",
    "                fp.write(\"%4.1f\\t%4.2f\\t%12.6f\\t%12.6f\\t%6.2f\\t%12.6f\\t%12.6f\\t%6.2f\\n\" %((theta[i]), (offset[i]), (ra1[i]), (d1[i]), (PosErr1[i]), (ra2[i]), (d2[i]),   (PosErr2[i]) ))\n",
    "                #fp.write(\"%4.1f\\t%4.2f\\t%f\\t%f\\t%6.2f\\t%f\\t%f\\t%6.2f\\n\" %((theta[i]), (offset[i]), (ra1[i]), (d1[i]), (PosErr1[i]), (ra2[i]), (d2[i]),   (PosErr2[i]) ))\n",
    "\n",
    "print(f'Numpy: {time.time() - start} seconds')"
   ]
  },
  {
   "cell_type": "code",
   "execution_count": null,
   "metadata": {},
   "outputs": [],
   "source": []
  }
 ],
 "metadata": {
  "kernelspec": {
   "display_name": "Python 3.8.2 64-bit",
   "language": "python",
   "name": "python3"
  },
  "language_info": {
   "codemirror_mode": {
    "name": "ipython",
    "version": 3
   },
   "file_extension": ".py",
   "mimetype": "text/x-python",
   "name": "python",
   "nbconvert_exporter": "python",
   "pygments_lexer": "ipython3",
   "version": "3.8.2"
  },
  "orig_nbformat": 4,
  "vscode": {
   "interpreter": {
    "hash": "31f2aee4e71d21fbe5cf8b01ff0e069b9275f58929596ceb00d14d90e3e16cd6"
   }
  }
 },
 "nbformat": 4,
 "nbformat_minor": 2
}
